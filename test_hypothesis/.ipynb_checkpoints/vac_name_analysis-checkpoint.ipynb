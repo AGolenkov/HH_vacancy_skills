{
 "cells": [
  {
   "cell_type": "code",
   "execution_count": 1,
   "metadata": {},
   "outputs": [],
   "source": [
    "import pandas as pd"
   ]
  },
  {
   "cell_type": "code",
   "execution_count": 2,
   "metadata": {},
   "outputs": [
    {
     "data": {
      "text/html": [
       "<div>\n",
       "<style scoped>\n",
       "    .dataframe tbody tr th:only-of-type {\n",
       "        vertical-align: middle;\n",
       "    }\n",
       "\n",
       "    .dataframe tbody tr th {\n",
       "        vertical-align: top;\n",
       "    }\n",
       "\n",
       "    .dataframe thead th {\n",
       "        text-align: right;\n",
       "    }\n",
       "</style>\n",
       "<table border=\"1\" class=\"dataframe\">\n",
       "  <thead>\n",
       "    <tr style=\"text-align: right;\">\n",
       "      <th></th>\n",
       "      <th>Unnamed: 0</th>\n",
       "      <th>vacancy_id</th>\n",
       "      <th>vacancy_name</th>\n",
       "      <th>vacancy_desc</th>\n",
       "      <th>vac_employer</th>\n",
       "    </tr>\n",
       "  </thead>\n",
       "  <tbody>\n",
       "    <tr>\n",
       "      <th>0</th>\n",
       "      <td>0</td>\n",
       "      <td>34553872</td>\n",
       "      <td>DWH разработчик</td>\n",
       "      <td>В команде ETL X5 Технологии открыта позиция DW...</td>\n",
       "      <td>X5 RETAIL GROUP</td>\n",
       "    </tr>\n",
       "    <tr>\n",
       "      <th>1</th>\n",
       "      <td>1</td>\n",
       "      <td>35124478</td>\n",
       "      <td>SQL/ETL Developer</td>\n",
       "      <td>Accenture – глобальная компания, предоставляющ...</td>\n",
       "      <td>Accenture</td>\n",
       "    </tr>\n",
       "    <tr>\n",
       "      <th>2</th>\n",
       "      <td>2</td>\n",
       "      <td>37625294</td>\n",
       "      <td>Data scientist в управление розничного моделир...</td>\n",
       "      <td>Обязанности: Разработка моделей по направления...</td>\n",
       "      <td>Банк ВТБ (ПАО)</td>\n",
       "    </tr>\n",
       "    <tr>\n",
       "      <th>3</th>\n",
       "      <td>3</td>\n",
       "      <td>38322265</td>\n",
       "      <td>Системный аналитик (аналитик DWH)</td>\n",
       "      <td>«СберСпасибо»- крупнейшая банковская программа...</td>\n",
       "      <td>СберСпасибо</td>\n",
       "    </tr>\n",
       "    <tr>\n",
       "      <th>4</th>\n",
       "      <td>4</td>\n",
       "      <td>38432478</td>\n",
       "      <td>Начальник отдела обеспечения работоспособности...</td>\n",
       "      <td>Обязанности: Обеспечение работоспособности фед...</td>\n",
       "      <td>МИЦ ПФР</td>\n",
       "    </tr>\n",
       "  </tbody>\n",
       "</table>\n",
       "</div>"
      ],
      "text/plain": [
       "   Unnamed: 0  vacancy_id                                       vacancy_name  \\\n",
       "0           0    34553872                                    DWH разработчик   \n",
       "1           1    35124478                                  SQL/ETL Developer   \n",
       "2           2    37625294  Data scientist в управление розничного моделир...   \n",
       "3           3    38322265                  Системный аналитик (аналитик DWH)   \n",
       "4           4    38432478  Начальник отдела обеспечения работоспособности...   \n",
       "\n",
       "                                        vacancy_desc     vac_employer  \n",
       "0  В команде ETL X5 Технологии открыта позиция DW...  X5 RETAIL GROUP  \n",
       "1  Accenture – глобальная компания, предоставляющ...        Accenture  \n",
       "2  Обязанности: Разработка моделей по направления...   Банк ВТБ (ПАО)  \n",
       "3  «СберСпасибо»- крупнейшая банковская программа...      СберСпасибо  \n",
       "4  Обязанности: Обеспечение работоспособности фед...          МИЦ ПФР  "
      ]
     },
     "execution_count": 2,
     "metadata": {},
     "output_type": "execute_result"
    }
   ],
   "source": [
    "df_vac_name = pd.read_excel('./data/vac_info.xlsx')\n",
    "df_vac_name.head()"
   ]
  },
  {
   "cell_type": "code",
   "execution_count": 3,
   "metadata": {},
   "outputs": [
    {
     "data": {
      "text/html": [
       "<div>\n",
       "<style scoped>\n",
       "    .dataframe tbody tr th:only-of-type {\n",
       "        vertical-align: middle;\n",
       "    }\n",
       "\n",
       "    .dataframe tbody tr th {\n",
       "        vertical-align: top;\n",
       "    }\n",
       "\n",
       "    .dataframe thead th {\n",
       "        text-align: right;\n",
       "    }\n",
       "</style>\n",
       "<table border=\"1\" class=\"dataframe\">\n",
       "  <thead>\n",
       "    <tr style=\"text-align: right;\">\n",
       "      <th></th>\n",
       "      <th>vacancy_id</th>\n",
       "      <th>vacancy_name</th>\n",
       "    </tr>\n",
       "  </thead>\n",
       "  <tbody>\n",
       "    <tr>\n",
       "      <th>0</th>\n",
       "      <td>34553872</td>\n",
       "      <td>DWH разработчик</td>\n",
       "    </tr>\n",
       "    <tr>\n",
       "      <th>1</th>\n",
       "      <td>35124478</td>\n",
       "      <td>SQL/ETL Developer</td>\n",
       "    </tr>\n",
       "    <tr>\n",
       "      <th>2</th>\n",
       "      <td>37625294</td>\n",
       "      <td>Data scientist в управление розничного моделир...</td>\n",
       "    </tr>\n",
       "    <tr>\n",
       "      <th>3</th>\n",
       "      <td>38322265</td>\n",
       "      <td>Системный аналитик (аналитик DWH)</td>\n",
       "    </tr>\n",
       "    <tr>\n",
       "      <th>4</th>\n",
       "      <td>38432478</td>\n",
       "      <td>Начальник отдела обеспечения работоспособности...</td>\n",
       "    </tr>\n",
       "  </tbody>\n",
       "</table>\n",
       "</div>"
      ],
      "text/plain": [
       "   vacancy_id                                       vacancy_name\n",
       "0    34553872                                    DWH разработчик\n",
       "1    35124478                                  SQL/ETL Developer\n",
       "2    37625294  Data scientist в управление розничного моделир...\n",
       "3    38322265                  Системный аналитик (аналитик DWH)\n",
       "4    38432478  Начальник отдела обеспечения работоспособности..."
      ]
     },
     "execution_count": 3,
     "metadata": {},
     "output_type": "execute_result"
    }
   ],
   "source": [
    "df_vac_name = df_vac_name[['vacancy_id','vacancy_name']]\n",
    "df_vac_name.head()"
   ]
  },
  {
   "cell_type": "code",
   "execution_count": 4,
   "metadata": {},
   "outputs": [
    {
     "data": {
      "text/html": [
       "<div>\n",
       "<style scoped>\n",
       "    .dataframe tbody tr th:only-of-type {\n",
       "        vertical-align: middle;\n",
       "    }\n",
       "\n",
       "    .dataframe tbody tr th {\n",
       "        vertical-align: top;\n",
       "    }\n",
       "\n",
       "    .dataframe thead th {\n",
       "        text-align: right;\n",
       "    }\n",
       "</style>\n",
       "<table border=\"1\" class=\"dataframe\">\n",
       "  <thead>\n",
       "    <tr style=\"text-align: right;\">\n",
       "      <th></th>\n",
       "      <th>vacancy_name</th>\n",
       "    </tr>\n",
       "    <tr>\n",
       "      <th>vacancy_id</th>\n",
       "      <th></th>\n",
       "    </tr>\n",
       "  </thead>\n",
       "  <tbody>\n",
       "    <tr>\n",
       "      <th>34553872</th>\n",
       "      <td>dwh разработчик</td>\n",
       "    </tr>\n",
       "    <tr>\n",
       "      <th>35124478</th>\n",
       "      <td>sqletl developer</td>\n",
       "    </tr>\n",
       "    <tr>\n",
       "      <th>37625294</th>\n",
       "      <td>data scientist управление розничный моделирование</td>\n",
       "    </tr>\n",
       "    <tr>\n",
       "      <th>38322265</th>\n",
       "      <td>системный аналитик аналитик dwh</td>\n",
       "    </tr>\n",
       "    <tr>\n",
       "      <th>38432478</th>\n",
       "      <td>начальник отдел обеспечение работоспособность ...</td>\n",
       "    </tr>\n",
       "    <tr>\n",
       "      <th>...</th>\n",
       "      <td>...</td>\n",
       "    </tr>\n",
       "    <tr>\n",
       "      <th>45156360</th>\n",
       "      <td>sas разработчик ведущий</td>\n",
       "    </tr>\n",
       "    <tr>\n",
       "      <th>45158038</th>\n",
       "      <td>стажёр департамент стратегический риск</td>\n",
       "    </tr>\n",
       "    <tr>\n",
       "      <th>45159054</th>\n",
       "      <td>аналитик sas</td>\n",
       "    </tr>\n",
       "    <tr>\n",
       "      <th>45159449</th>\n",
       "      <td>sreинженер bi visual</td>\n",
       "    </tr>\n",
       "    <tr>\n",
       "      <th>45161243</th>\n",
       "      <td>стажёр отдел management information systems</td>\n",
       "    </tr>\n",
       "  </tbody>\n",
       "</table>\n",
       "<p>398 rows × 1 columns</p>\n",
       "</div>"
      ],
      "text/plain": [
       "                                                 vacancy_name\n",
       "vacancy_id                                                   \n",
       "34553872                                      dwh разработчик\n",
       "35124478                                     sqletl developer\n",
       "37625294    data scientist управление розничный моделирование\n",
       "38322265                      системный аналитик аналитик dwh\n",
       "38432478    начальник отдел обеспечение работоспособность ...\n",
       "...                                                       ...\n",
       "45156360                              sas разработчик ведущий\n",
       "45158038               стажёр департамент стратегический риск\n",
       "45159054                                         аналитик sas\n",
       "45159449                                 sreинженер bi visual\n",
       "45161243          стажёр отдел management information systems\n",
       "\n",
       "[398 rows x 1 columns]"
      ]
     },
     "execution_count": 4,
     "metadata": {},
     "output_type": "execute_result"
    }
   ],
   "source": [
    "from pymorphy2 import MorphAnalyzer\n",
    "from stop_words import get_stop_words\n",
    "from string import punctuation\n",
    "\n",
    "exclude_punctuation = set(punctuation)\n",
    "stop_words = set(get_stop_words(\"ru\"))\n",
    "morpher = MorphAnalyzer()\n",
    "\n",
    "def preprocess_text(txt):\n",
    "    txt = str(txt)\n",
    "    txt = \"\".join(c for c in txt if c not in exclude_punctuation)\n",
    "    txt = txt.lower()\n",
    "    txt = [morpher.parse(word)[0].normal_form for word in txt.split() if word not in stop_words]\n",
    "    return \" \".join(txt)\n",
    "df_vac_name['vacancy_name'] = df_vac_name['vacancy_name'].apply(preprocess_text)\n",
    "df_vac_name = df_vac_name.set_index('vacancy_id')\n",
    "df_vac_name"
   ]
  },
  {
   "cell_type": "code",
   "execution_count": 5,
   "metadata": {},
   "outputs": [
    {
     "data": {
      "text/plain": [
       "<398x401 sparse matrix of type '<class 'numpy.float64'>'\n",
       "\twith 1472 stored elements in Compressed Sparse Row format>"
      ]
     },
     "execution_count": 5,
     "metadata": {},
     "output_type": "execute_result"
    }
   ],
   "source": [
    "from sklearn.feature_extraction.text import TfidfVectorizer\n",
    "tfidf = TfidfVectorizer()\n",
    "corpus = tfidf.fit_transform(df_vac_name['vacancy_name'])\n",
    "corpus"
   ]
  },
  {
   "cell_type": "code",
   "execution_count": 12,
   "metadata": {},
   "outputs": [
    {
     "data": {
      "text/plain": [
       "array([1, 4, 0, 2, 4, 4, 4, 4, 0, 4, 4, 3, 1, 2, 4, 3, 3, 2, 4, 4, 4, 4,\n",
       "       4, 4, 4, 2, 5, 4, 2, 4, 3, 2, 4, 0, 4, 1, 4, 1, 4, 2, 1, 1, 2, 4,\n",
       "       4, 2, 5, 1, 5, 0, 3, 2, 4, 3, 1, 1, 2, 4, 3, 4, 4, 3, 3, 2, 4, 4,\n",
       "       0, 0, 2, 2, 4, 4, 4, 4, 4, 4, 5, 4, 2, 0, 4, 3, 4, 2, 1, 1, 4, 4,\n",
       "       4, 5, 5, 4, 4, 4, 4, 2, 3, 3, 1, 5, 4, 4, 2, 4, 5, 4, 4, 4, 2, 4,\n",
       "       0, 0, 2, 4, 2, 1, 0, 1, 1, 1, 2, 4, 4, 4, 4, 4, 1, 2, 2, 0, 4, 2,\n",
       "       4, 2, 4, 0, 4, 5, 5, 5, 5, 4, 2, 5, 2, 3, 2, 1, 1, 2, 3, 2, 0, 2,\n",
       "       1, 4, 4, 4, 3, 5, 3, 4, 4, 4, 4, 2, 1, 4, 1, 1, 4, 2, 4, 4, 2, 1,\n",
       "       1, 0, 2, 3, 3, 4, 2, 4, 4, 4, 4, 4, 3, 3, 0, 4, 5, 4, 4, 1, 4, 4,\n",
       "       0, 4, 3, 2, 3, 4, 1, 2, 5, 4, 4, 4, 3, 1, 2, 2, 4, 4, 1, 1, 0, 1,\n",
       "       1, 1, 0, 4, 4, 4, 4, 4, 4, 4, 4, 4, 4, 4, 4, 4, 1, 4, 4, 4, 4, 4,\n",
       "       4, 0, 5, 4, 1, 1, 4, 4, 1, 4, 1, 4, 1, 1, 1, 1, 4, 4, 4, 4, 2, 4,\n",
       "       2, 0, 4, 0, 4, 5, 4, 4, 0, 0, 0, 0, 0, 0, 4, 4, 4, 2, 4, 4, 1, 1,\n",
       "       4, 0, 4, 4, 2, 2, 2, 2, 2, 5, 4, 4, 4, 4, 4, 2, 3, 0, 2, 0, 4, 4,\n",
       "       4, 4, 4, 4, 4, 2, 4, 2, 4, 0, 2, 4, 4, 2, 4, 0, 4, 4, 3, 0, 4, 4,\n",
       "       3, 2, 2, 1, 1, 4, 5, 2, 4, 1, 4, 4, 4, 5, 2, 0, 4, 4, 5, 4, 1, 1,\n",
       "       5, 4, 4, 4, 4, 3, 4, 2, 4, 4, 4, 4, 3, 2, 4, 2, 4, 2, 4, 2, 2, 4,\n",
       "       4, 0, 0, 4, 1, 0, 4, 2, 2, 4, 2, 4, 4, 2, 4, 1, 4, 4, 4, 1, 4, 2,\n",
       "       4, 4])"
      ]
     },
     "execution_count": 12,
     "metadata": {},
     "output_type": "execute_result"
    }
   ],
   "source": [
    "from sklearn import cluster\n",
    "model = cluster.KMeans(n_clusters=6)\n",
    "res = model.fit_predict(corpus)\n",
    "res"
   ]
  },
  {
   "cell_type": "code",
   "execution_count": 13,
   "metadata": {},
   "outputs": [],
   "source": [
    "df_vac_name['cluster'] = res\n",
    "df_vac_name.to_excel('./data/vac_clustered.xlsx')"
   ]
  }
 ],
 "metadata": {
  "kernelspec": {
   "display_name": "Python 3",
   "language": "python",
   "name": "python3"
  },
  "language_info": {
   "codemirror_mode": {
    "name": "ipython",
    "version": 3
   },
   "file_extension": ".py",
   "mimetype": "text/x-python",
   "name": "python",
   "nbconvert_exporter": "python",
   "pygments_lexer": "ipython3",
   "version": "3.8.5"
  }
 },
 "nbformat": 4,
 "nbformat_minor": 4
}
