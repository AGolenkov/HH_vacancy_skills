{
 "cells": [
  {
   "cell_type": "code",
   "execution_count": 1,
   "metadata": {},
   "outputs": [
    {
     "data": {
      "text/html": [
       "<div>\n",
       "<style scoped>\n",
       "    .dataframe tbody tr th:only-of-type {\n",
       "        vertical-align: middle;\n",
       "    }\n",
       "\n",
       "    .dataframe tbody tr th {\n",
       "        vertical-align: top;\n",
       "    }\n",
       "\n",
       "    .dataframe thead th {\n",
       "        text-align: right;\n",
       "    }\n",
       "</style>\n",
       "<table border=\"1\" class=\"dataframe\">\n",
       "  <thead>\n",
       "    <tr style=\"text-align: right;\">\n",
       "      <th></th>\n",
       "      <th>vacancy_id</th>\n",
       "      <th>vacancy_desc</th>\n",
       "    </tr>\n",
       "  </thead>\n",
       "  <tbody>\n",
       "    <tr>\n",
       "      <th>0</th>\n",
       "      <td>34553872</td>\n",
       "      <td>В команде ETL X5 Технологии открыта позиция DW...</td>\n",
       "    </tr>\n",
       "    <tr>\n",
       "      <th>1</th>\n",
       "      <td>35124478</td>\n",
       "      <td>Accenture – глобальная компания, предоставляющ...</td>\n",
       "    </tr>\n",
       "    <tr>\n",
       "      <th>2</th>\n",
       "      <td>37625294</td>\n",
       "      <td>Обязанности: Разработка моделей по направления...</td>\n",
       "    </tr>\n",
       "    <tr>\n",
       "      <th>3</th>\n",
       "      <td>38322265</td>\n",
       "      <td>«СберСпасибо»- крупнейшая банковская программа...</td>\n",
       "    </tr>\n",
       "    <tr>\n",
       "      <th>4</th>\n",
       "      <td>38432478</td>\n",
       "      <td>Обязанности: Обеспечение работоспособности фед...</td>\n",
       "    </tr>\n",
       "  </tbody>\n",
       "</table>\n",
       "</div>"
      ],
      "text/plain": [
       "   vacancy_id                                       vacancy_desc\n",
       "0    34553872  В команде ETL X5 Технологии открыта позиция DW...\n",
       "1    35124478  Accenture – глобальная компания, предоставляющ...\n",
       "2    37625294  Обязанности: Разработка моделей по направления...\n",
       "3    38322265  «СберСпасибо»- крупнейшая банковская программа...\n",
       "4    38432478  Обязанности: Обеспечение работоспособности фед..."
      ]
     },
     "execution_count": 1,
     "metadata": {},
     "output_type": "execute_result"
    }
   ],
   "source": [
    "import pandas as pd\n",
    "df_vac_desc = pd.read_excel('./data/vac_info.xlsx')\n",
    "df_vac_desc = df_vac_desc[['vacancy_id','vacancy_desc']]\n",
    "df_vac_desc.head()"
   ]
  },
  {
   "cell_type": "code",
   "execution_count": 8,
   "metadata": {},
   "outputs": [
    {
     "data": {
      "text/html": [
       "<div>\n",
       "<style scoped>\n",
       "    .dataframe tbody tr th:only-of-type {\n",
       "        vertical-align: middle;\n",
       "    }\n",
       "\n",
       "    .dataframe tbody tr th {\n",
       "        vertical-align: top;\n",
       "    }\n",
       "\n",
       "    .dataframe thead th {\n",
       "        text-align: right;\n",
       "    }\n",
       "</style>\n",
       "<table border=\"1\" class=\"dataframe\">\n",
       "  <thead>\n",
       "    <tr style=\"text-align: right;\">\n",
       "      <th></th>\n",
       "      <th>vacancy_id</th>\n",
       "      <th>vacancy_desc</th>\n",
       "    </tr>\n",
       "  </thead>\n",
       "  <tbody>\n",
       "    <tr>\n",
       "      <th>0</th>\n",
       "      <td>34553872</td>\n",
       "      <td>etl x5 технология открыть dwh разработчикнаш с...</td>\n",
       "    </tr>\n",
       "    <tr>\n",
       "      <th>1</th>\n",
       "      <td>35124478</td>\n",
       "      <td>accenture – глобальный предоставлять услуга об...</td>\n",
       "    </tr>\n",
       "    <tr>\n",
       "      <th>2</th>\n",
       "      <td>37625294</td>\n",
       "      <td>разработка модель направление модель модель пр...</td>\n",
       "    </tr>\n",
       "    <tr>\n",
       "      <th>3</th>\n",
       "      <td>38322265</td>\n",
       "      <td>«сберспасибо» банковский лояльность создать па...</td>\n",
       "    </tr>\n",
       "    <tr>\n",
       "      <th>4</th>\n",
       "      <td>38432478</td>\n",
       "      <td>обеспечение информационный ресурс подсистема а...</td>\n",
       "    </tr>\n",
       "    <tr>\n",
       "      <th>...</th>\n",
       "      <td>...</td>\n",
       "      <td>...</td>\n",
       "    </tr>\n",
       "    <tr>\n",
       "      <th>393</th>\n",
       "      <td>45156360</td>\n",
       "      <td>топ10 искать ведущий разработчик разработка за...</td>\n",
       "    </tr>\n",
       "    <tr>\n",
       "      <th>394</th>\n",
       "      <td>45158038</td>\n",
       "      <td>стратегический риск 2 ключевой функция – прогн...</td>\n",
       "    </tr>\n",
       "    <tr>\n",
       "      <th>395</th>\n",
       "      <td>45159054</td>\n",
       "      <td>анализ проработка заказчик разработка функцион...</td>\n",
       "    </tr>\n",
       "    <tr>\n",
       "      <th>396</th>\n",
       "      <td>45159449</td>\n",
       "      <td>tinkoffru искать sre инженер bi visual bi visu...</td>\n",
       "    </tr>\n",
       "    <tr>\n",
       "      <th>397</th>\n",
       "      <td>45161243</td>\n",
       "      <td>своевременный подготовка регулярный управленче...</td>\n",
       "    </tr>\n",
       "  </tbody>\n",
       "</table>\n",
       "<p>398 rows × 2 columns</p>\n",
       "</div>"
      ],
      "text/plain": [
       "     vacancy_id                                       vacancy_desc\n",
       "0      34553872  etl x5 технология открыть dwh разработчикнаш с...\n",
       "1      35124478  accenture – глобальный предоставлять услуга об...\n",
       "2      37625294  разработка модель направление модель модель пр...\n",
       "3      38322265  «сберспасибо» банковский лояльность создать па...\n",
       "4      38432478  обеспечение информационный ресурс подсистема а...\n",
       "..          ...                                                ...\n",
       "393    45156360  топ10 искать ведущий разработчик разработка за...\n",
       "394    45158038  стратегический риск 2 ключевой функция – прогн...\n",
       "395    45159054  анализ проработка заказчик разработка функцион...\n",
       "396    45159449  tinkoffru искать sre инженер bi visual bi visu...\n",
       "397    45161243  своевременный подготовка регулярный управленче...\n",
       "\n",
       "[398 rows x 2 columns]"
      ]
     },
     "execution_count": 8,
     "metadata": {},
     "output_type": "execute_result"
    }
   ],
   "source": [
    "from pymorphy2 import MorphAnalyzer\n",
    "from stop_words import get_stop_words\n",
    "from string import punctuation\n",
    "\n",
    "exclude_punctuation = set(punctuation)\n",
    "stop_words = set(get_stop_words(\"ru\"))\n",
    "stop_work_words = set(['работа','опыт','организация','контроль','специалист','and','the','to','банк','сотрудник','знание','обязанность','работоспособность','позиция','стажировка'\n",
    "                       ,'компания','дать','of','команда','задача','sas','решение','развитие','система','in','with','for','корпоративный','проект','клиент','продукт','ржд','требование'\n",
    "                      ,'работать','мтс','we','офис','крупный','преимущество','уровень','сбербанк','бизнес','возможность','новый', 'навык','выполнение','навык','профессиональный'\n",
    "                       ,'понимание', 'дмс', 'проведение','рост','рабочий','рф', 'иэи','трудоустройство','федеральный','рынок','пфр','business','центр','оптовый','умение',\n",
    "                      'высокий', 'плата', 'отвод', 'лесной','договор','желательный','обладать','or','our','оао', 'заработный', 'мероприятие', 'инфраструктура', 'уютный',\n",
    "                       'обязательно', 'разрабатывать', 'плюс', 'желательно','is', 'any', 'you','сберспасибо', 'россия','российский','обучение','условие','скидка','департамент'\n",
    "                       , 'программа', 'льготный', 'привилегия','являться', 'втб', 'компенсация', 'группа','млн','электронный', 'дом', 'сбор', 'помощь','команда','отдел',\n",
    "                      'fis','образование','участие','сбер','апк','сложный','целевой'])\n",
    "stop_words.update(stop_work_words)\n",
    "morpher = MorphAnalyzer()\n",
    "\n",
    "def preprocess_text(txt):\n",
    "    txt = str(txt)\n",
    "    txt = \"\".join(c for c in txt if c not in exclude_punctuation)\n",
    "    txt = txt.lower()\n",
    "    txt = [morpher.parse(word)[0].normal_form for word in txt.split() if word not in stop_words]\n",
    "    return \" \".join(txt)\n",
    "for i in range(5):\n",
    "    df_vac_desc['vacancy_desc'] = df_vac_desc['vacancy_desc'].apply(preprocess_text)\n",
    "df_vac_desc"
   ]
  },
  {
   "cell_type": "code",
   "execution_count": 9,
   "metadata": {},
   "outputs": [
    {
     "data": {
      "text/plain": [
       "<398x6991 sparse matrix of type '<class 'numpy.int64'>'\n",
       "\twith 45652 stored elements in Compressed Sparse Row format>"
      ]
     },
     "execution_count": 9,
     "metadata": {},
     "output_type": "execute_result"
    }
   ],
   "source": [
    "from sklearn.feature_extraction.text import CountVectorizer\n",
    "vect = CountVectorizer()\n",
    "corpus = vect.fit_transform(df_vac_desc['vacancy_desc'])\n",
    "corpus"
   ]
  },
  {
   "cell_type": "code",
   "execution_count": 10,
   "metadata": {},
   "outputs": [
    {
     "data": {
      "text/plain": [
       "{0: ['кредитный', 'модель', 'риск', 'оценка'],\n",
       " 1: ['отчётность', 'процесс', 'поддержка', 'страхование'],\n",
       " 2: ['платформа', 'sql', 'процесс', 'страхование'],\n",
       " 3: ['разработка', 'технический', 'sql', 'хранилище'],\n",
       " 4: ['риск', 'кредитный', 'разработка', 'управление'],\n",
       " 5: ['data', 'azure', 'sql', 'модель'],\n",
       " 6: ['отчётность', 'анализ', 'направление', 'аналитик'],\n",
       " 7: ['кампания', 'анализ', 'маркетинговый', 'результат'],\n",
       " 8: ['платформа', 'linux', 'openstack', 'продажа'],\n",
       " 9: ['администрирование', 'ms', 'инцидент', 'ревить'],\n",
       " 10: ['разработка', 'data', 'область', 'разработчик'],\n",
       " 11: ['разработка', 'oracle', 'хранилище', 'informatica'],\n",
       " 12: ['информационный', 'внедрение', 'разработка', 'час'],\n",
       " 13: ['анализ', 'банковский', 'отчётность', 'аналитический'],\n",
       " 14: ['data', 'настройка', 'сервис', 'experience'],\n",
       " 15: ['разработка', 'модель', 'риск', 'sql'],\n",
       " 16: ['data', 'clinical', 'больший', 'анализ'],\n",
       " 17: ['запас', 'планирование', 'пополнение', 'продажа'],\n",
       " 18: ['анализ', 'клиентский', 'база', 'реализация'],\n",
       " 19: ['разработка', 'sap', 'база', '1с']}"
      ]
     },
     "execution_count": 10,
     "metadata": {},
     "output_type": "execute_result"
    }
   ],
   "source": [
    "from sklearn.decomposition import LatentDirichletAllocation\n",
    "model = LatentDirichletAllocation(n_components=20)\n",
    "model.fit_transform(corpus)\n",
    "names = vect.get_feature_names()\n",
    "topics = dict()\n",
    "\n",
    "for idx, topic in enumerate(model.components_):\n",
    "        features = topic.argsort()[:-(6 - 1): -1]\n",
    "        tokens = [names[i] for i in features]\n",
    "        topics[idx] = tokens\n",
    "topics"
   ]
  },
  {
   "cell_type": "code",
   "execution_count": 11,
   "metadata": {},
   "outputs": [],
   "source": [
    "df_vac_desc['word_list'] = df_vac_desc['vacancy_desc'].apply(lambda x: x.split())"
   ]
  },
  {
   "cell_type": "code",
   "execution_count": 59,
   "metadata": {},
   "outputs": [],
   "source": [
    "sentences = df_vac_desc['word_list']\n",
    "topic_amount = {key: [] for key in range(20)}\n",
    "for topic in range(20):\n",
    "    for sentence in sentences:\n",
    "        amount = 0\n",
    "        for word in sentence:\n",
    "            if word in topics[topic]:\n",
    "                amount+=1\n",
    "            else:\n",
    "                continue\n",
    "        topic_amount[topic].append(amount)\n",
    "topic_df = pd.DataFrame.from_dict(topic_amount)\n",
    "topic_df = topic_df.T\n",
    "topic_df= topic_df.iloc[lambda x: x.index].apply(lambda x: x / x.sum())\n",
    "topic_df = topic_df.T\n",
    "topic_df['vacancy_id'] = df_vac_desc['vacancy_id']\n",
    "topic_df = topic_df.set_index('vacancy_id')\n",
    "res_topic = pd.DataFrame(topic_df.stack())\n",
    "res_topic.reset_index( inplace=True)\n",
    "res_topic = res_topic.rename(columns={'level_1': 'topic_id', 0: 'topic_percent'})\n",
    "res_topic.to_excel('./data/vac_topic.xlsx')"
   ]
  },
  {
   "cell_type": "code",
   "execution_count": 62,
   "metadata": {},
   "outputs": [],
   "source": [
    "topics_dict = pd.DataFrame.from_dict(topics)\n",
    "topics_dict.T.to_excel('./data/topic_dict.xlsx')"
   ]
  }
 ],
 "metadata": {
  "kernelspec": {
   "display_name": "Python 3",
   "language": "python",
   "name": "python3"
  },
  "language_info": {
   "codemirror_mode": {
    "name": "ipython",
    "version": 3
   },
   "file_extension": ".py",
   "mimetype": "text/x-python",
   "name": "python",
   "nbconvert_exporter": "python",
   "pygments_lexer": "ipython3",
   "version": "3.8.5"
  }
 },
 "nbformat": 4,
 "nbformat_minor": 4
}
